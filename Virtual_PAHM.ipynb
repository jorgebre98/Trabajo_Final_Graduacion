{
 "cells": [
  {
   "cell_type": "markdown",
   "id": "b90776f6",
   "metadata": {},
   "source": [
    "## Tecnológico de Costa Rica\n",
    "\n",
    "### Autor: Jorge Andrés Brenes Alfaro\n",
    "\n",
    "## Virtual_PAHM\n",
    "\n",
    "El código desarrollado a continuación está basado en [1]. La red diseñada es la encargada de reproducir el comportamiento de entrada y salida de una planta prototipo de péndulo amortiguado a hélice (PAHM)."
   ]
  },
  {
   "cell_type": "markdown",
   "id": "642ccf10",
   "metadata": {},
   "source": [
    "## Bibliotecas"
   ]
  },
  {
   "cell_type": "code",
   "execution_count": null,
   "id": "cfa3f92c",
   "metadata": {},
   "outputs": [],
   "source": [
    "#!pip install wandb"
   ]
  },
  {
   "cell_type": "code",
   "execution_count": 1,
   "id": "ef904508",
   "metadata": {},
   "outputs": [],
   "source": [
    "import numpy as np\n",
    "from numpy.linalg import inv\n",
    "import matplotlib.pyplot as plt\n",
    "\n",
    "import wandb\n",
    "from wandb.keras import WandbCallback\n",
    "\n",
    "from tensorflow.keras.layers import Dense\n",
    "from tensorflow.keras.layers import GRU\n",
    "from tensorflow.keras.layers import LSTM\n",
    "from tensorflow.keras.layers import SimpleRNN\n",
    "from tensorflow.keras.models import Sequential\n",
    "from tensorflow.keras.optimizers import RMSprop, Adam\n",
    "from tensorflow.keras.layers import TimeDistributed\n",
    "from tensorflow.keras.backend import clear_session\n",
    "\n",
    "import warnings\n",
    "warnings.filterwarnings('ignore')"
   ]
  },
  {
   "cell_type": "code",
   "execution_count": 2,
   "id": "9d0aeebc",
   "metadata": {},
   "outputs": [
    {
     "name": "stderr",
     "output_type": "stream",
     "text": [
      "wandb: Currently logged in as: jorgebre98. Use `wandb login --relogin` to force relogin\n"
     ]
    },
    {
     "data": {
      "text/html": [
       "Tracking run with wandb version 0.13.1"
      ],
      "text/plain": [
       "<IPython.core.display.HTML object>"
      ]
     },
     "metadata": {},
     "output_type": "display_data"
    },
    {
     "data": {
      "text/html": [
       "Run data is saved locally in <code>C:\\Users\\jorge\\Documents\\TEC\\TFG\\Trabajo_Final_Graduacion\\wandb\\run-20220820_135634-31ykmtme</code>"
      ],
      "text/plain": [
       "<IPython.core.display.HTML object>"
      ]
     },
     "metadata": {},
     "output_type": "display_data"
    },
    {
     "data": {
      "text/html": [
       "Syncing run <strong><a href=\"https://wandb.ai/jorgebre98/Virtual_PAHM/runs/31ykmtme\" target=\"_blank\">floral-totem-9</a></strong> to <a href=\"https://wandb.ai/jorgebre98/Virtual_PAHM\" target=\"_blank\">Weights & Biases</a> (<a href=\"https://wandb.me/run\" target=\"_blank\">docs</a>)<br/>"
      ],
      "text/plain": [
       "<IPython.core.display.HTML object>"
      ]
     },
     "metadata": {},
     "output_type": "display_data"
    }
   ],
   "source": [
    "#wandb.login()\n",
    "run = wandb.init(project = 'Virtual_PAHM',\n",
    "                config = {\n",
    "                    'epochs':1000,\n",
    "                    'batch_size': 64,\n",
    "                    'loss_function':'Adam',\n",
    "                    'Architecture': 'RNN',\n",
    "                    'dataset':'Propio'\n",
    "                })"
   ]
  },
  {
   "cell_type": "markdown",
   "id": "8720b415",
   "metadata": {},
   "source": [
    "## 1. Definición del modelo\n",
    "Se define el espacio de estados de la planta PAHM de la siguiente forma:\n",
    "$$\\dot{x}(t)=A*x(t)+Bu(t)\\\\\n",
    "y(t)=C*x(t)$$\n",
    "Donde:\n",
    "- A, B y C son matrices.\n",
    "- x(t) es el estado en el tiempo t.\n",
    "- u(t) es la entrada externa.\n",
    "- y(t) es la salida."
   ]
  },
  {
   "cell_type": "markdown",
   "id": "66d553ab",
   "metadata": {},
   "source": [
    "### 1.1 Función para simular la dinámica de la planta"
   ]
  },
  {
   "cell_type": "code",
   "execution_count": 3,
   "id": "8b8a1c73",
   "metadata": {},
   "outputs": [],
   "source": [
    "def dinamica_modelo(A,B,C,cond_inicial,input_sequence, time_steps,muestreo):\n",
    "    I = np.identity(A.shape[0])\n",
    "    Ad = inv(I - muestreo*A)\n",
    "    Bd = Ad*muestreo*B\n",
    "    Xd = np.zeros(shape=(A.shape[0],time_steps + 1)) # # Vectores de 2 x 201 / X en tiempo discreto\n",
    "    Yd = np.zeros(shape=(C.shape[0],time_steps + 1)) # # Vectores de 2 x 201 / Salida en tiempo discreto\n",
    "    \n",
    "    for i in range(0,time_steps):\n",
    "        if i==0:\n",
    "            Xd[:,[i]] = cond_inicial\n",
    "            Yd[:,[i]] = C*cond_inicial\n",
    "            x = Ad*cond_inicial + Bd*input_sequence[i]\n",
    "        else:\n",
    "            Xd[:,[i]] = x\n",
    "            Yd[:,[i]] = C*x\n",
    "            x = Ad*x + Bd*input_sequence[i]\n",
    "            \n",
    "    Xd[:,[-1]] = x\n",
    "    Yd[:,[-1]] = C*x\n",
    "    return Xd, Yd"
   ]
  },
  {
   "cell_type": "markdown",
   "id": "e2f239d9",
   "metadata": {},
   "source": [
    "## Función Escalón y rampa"
   ]
  },
  {
   "cell_type": "code",
   "execution_count": 19,
   "id": "9e411dad",
   "metadata": {},
   "outputs": [],
   "source": [
    "# ********************************** Step Function **********************************#\n",
    "def step_function(A,t):\n",
    "    u = (t >= 0)*A\n",
    "    return u\n",
    "\n",
    "# ********************************** Ramp Function **********************************#\n",
    "def ramp_function(A,t):\n",
    "    r = t*step_function(A,t)\n",
    "    return r"
   ]
  },
  {
   "cell_type": "markdown",
   "id": "a84b111c",
   "metadata": {},
   "source": [
    "### 1.2 Definición del modelo en tiempo continuo"
   ]
  },
  {
   "cell_type": "code",
   "execution_count": 40,
   "id": "5db02fb2",
   "metadata": {},
   "outputs": [],
   "source": [
    "A = np.matrix([[0, 1],[-0.9413, -0.149]])\n",
    "B = np.matrix([[0],[0.149]])\n",
    "C = np.matrix([[1, 0]])\n",
    "\n",
    "# Definición del tiempo de muestreo\n",
    "tiempo = 200\n",
    "sampling = 0.2\n",
    "input_seq_train = np.random.rand(tiempo,1) # Secuencia de entrada para la simulación\n",
    "                                           # Es aleatoria para que sea rica en información\n",
    "x0_train = np.random.rand(2,1) # Condición inicial\n",
    "#input_seq = np.ones(tiempo) # Escalón\n",
    "input_seq = step_function(2.5,np.arange(0,tiempo)) # Escalón\n",
    "#input_seq = ramp_function(2.5,np.arange(0,tiempo))"
   ]
  },
  {
   "cell_type": "markdown",
   "id": "a4752ec4",
   "metadata": {},
   "source": [
    "### 1.3 Conversión a tiempo discreto y dinámica de la planta"
   ]
  },
  {
   "cell_type": "code",
   "execution_count": 39,
   "id": "5b5c2b73",
   "metadata": {},
   "outputs": [
    {
     "data": {
      "text/plain": [
       "Text(0.5, 1.0, 'Respuesta al escalón')"
      ]
     },
     "execution_count": 39,
     "metadata": {},
     "output_type": "execute_result"
    },
    {
     "data": {
      "image/png": "[encoded data removed]",
      "text/plain": [
       "<Figure size 432x288 with 1 Axes>"
      ]
     },
     "metadata": {
      "needs_background": "light"
     },
     "output_type": "display_data"
    }
   ],
   "source": [
    "# Dinámica de la planta\n",
    "state,output_train=dinamica_modelo(A,B,C,x0_train,input_seq,tiempo,sampling)  \n",
    "\n",
    "plt.plot(output_train[0])\n",
    "plt.xlabel('Tiempo (s)')\n",
    "plt.ylabel('Ángulo (rad)')\n",
    "plt.title('Respuesta al escalón')"
   ]
  },
  {
   "cell_type": "markdown",
   "id": "377c6ebc",
   "metadata": {},
   "source": [
    "## 2. Creación de datos\n",
    "\n",
    "Se replica el mismo método para crear datos de entrenamiento, validación y prueba. La diferencia radica en que se hace diferentes secuencias de entrada y condiciones iniciales de planta"
   ]
  },
  {
   "cell_type": "markdown",
   "id": "d7caf33a",
   "metadata": {},
   "source": [
    "### 2.1 Datos de entrenamiento"
   ]
  },
  {
   "cell_type": "code",
   "execution_count": 11,
   "id": "1fc2be65",
   "metadata": {},
   "outputs": [],
   "source": [
    "train_label = np.reshape(output_train.T,(1,output_train.T.shape[0],1)) # Salida para el entrenamiento\n",
    "\n",
    "input_seq_train = np.reshape(input_seq_train,(input_seq_train.shape[0],1)) # El tamaño no cambia, ¿por qué cambian los valores?\n",
    "tmp_train = np.concatenate((input_seq_train, np.zeros(shape=(input_seq_train.shape[0],1))), axis=1)\n",
    "tmp_train = np.concatenate((x0_train.T,tmp_train), axis=0)\n",
    "train_data = np.reshape(tmp_train, (1,tmp_train.shape[0],tmp_train.shape[1])) # Entrada para el entrenamiento"
   ]
  },
  {
   "cell_type": "markdown",
   "id": "876af08f",
   "metadata": {},
   "source": [
    "### 2.2 Datos de validación"
   ]
  },
  {
   "cell_type": "code",
   "execution_count": null,
   "id": "2063b25d",
   "metadata": {},
   "outputs": [],
   "source": [
    "input_seq_val = np.random.rand(tiempo,1)\n",
    "x0_val = np.random.rand(2,1)\n",
    "\n",
    "state_val,output_val = dinamica_modelo(A,B,C,x0_val,input_seq_val,tiempo,sampling)\n",
    "val_label = np.reshape(output_val.T,(1,output_val.T.shape[0],1)) # Salida de datos de validación\n",
    "\n",
    "input_seq_val = np.reshape(input_seq_val,(input_seq_val.shape[0],1))\n",
    "tmp_val = np.concatenate((input_seq_val, np.zeros(shape=(input_seq_val.shape[0],1))), axis=1)\n",
    "tmp_val = np.concatenate((x0_val.T,tmp_val), axis=0)\n",
    "val_data = np.reshape(tmp_val, (1,tmp_val.shape[0],tmp_val.shape[1])) # Entrada para datos de validación"
   ]
  },
  {
   "cell_type": "markdown",
   "id": "ad6ba025",
   "metadata": {},
   "source": [
    "### 2.3 Datos de prueba"
   ]
  },
  {
   "cell_type": "code",
   "execution_count": null,
   "id": "22987331",
   "metadata": {},
   "outputs": [],
   "source": [
    "input_seq_test = np.random.rand(tiempo,1)\n",
    "x0_test = np.random.rand(2,1)\n",
    "\n",
    "state_test,output_test = dinamica_modelo(A,B,C,x0_test,input_seq_test,tiempo,sampling)\n",
    "test_label = np.reshape(output_test.T,(1,output_test.T.shape[0],1)) # Salida de datos de prueba\n",
    "\n",
    "input_seq_test = np.reshape(input_seq_test,(input_seq_test.shape[0],1))\n",
    "tmp_test = np.concatenate((input_seq_test, np.zeros(shape=(input_seq_test.shape[0],1))), axis=1)\n",
    "tmp_test = np.concatenate((x0_test.T,tmp_test), axis=0)\n",
    "test_data = np.reshape(tmp_test, (1,tmp_test.shape[0],tmp_test.shape[1])) # Entrada para datos de validación"
   ]
  },
  {
   "cell_type": "markdown",
   "id": "d65f778f",
   "metadata": {},
   "source": [
    "## 3. Creación de la red neuronal"
   ]
  },
  {
   "cell_type": "markdown",
   "id": "a1d72d82",
   "metadata": {},
   "source": [
    "### 3.1 Definición del modelo"
   ]
  },
  {
   "cell_type": "code",
   "execution_count": null,
   "id": "4a8da7dd",
   "metadata": {
    "scrolled": true
   },
   "outputs": [],
   "source": [
    "clear_session()\n",
    "\n",
    "model = Sequential()\n",
    "#model.add(SimpleRNN(32, input_shape=(train_data.shape[1],train_data.shape[2]),return_sequences=True))\n",
    "model.add(GRU(64, input_shape=(train_data.shape[1],train_data.shape[2]),return_sequences=True))\n",
    "#model.add(LSTM(32, input_shape=(train_data.shape[1],train_data.shape[2]),return_sequences=True))\n",
    "#model.add(Dense(1))\n",
    "model.add(TimeDistributed(Dense(1)))  #there is no difference between this and model.add(Dense(1))...\n",
    "model.compile(optimizer=Adam(), loss='mean_squared_error', metrics=['mse'])\n",
    "\n",
    "model.summary()"
   ]
  },
  {
   "cell_type": "markdown",
   "id": "7f7f5278",
   "metadata": {},
   "source": [
    "### 3.2 Entrenamiento de la red"
   ]
  },
  {
   "cell_type": "code",
   "execution_count": null,
   "id": "f53519d1",
   "metadata": {
    "scrolled": true
   },
   "outputs": [],
   "source": [
    "history = model.fit(train_data, train_label , \n",
    "                  epochs=2000, batch_size=10, \n",
    "                  validation_data=(val_data,val_label),verbose=2)#, callbacks=[WandbCallback()])\n",
    "\n",
    "model.save('modelo_PAHM', save_format=\"h5\")\n",
    "\n",
    "# use the test data to predict the model response\n",
    "testPredict = model.predict(test_data)"
   ]
  },
  {
   "cell_type": "code",
   "execution_count": null,
   "id": "102f59ce",
   "metadata": {},
   "outputs": [],
   "source": [
    "loss, accuracy = model.evaluate(test_data,test_label)\n",
    "wandb.log({'evaluate/accuracy': accuracy})\n",
    "wandb.run.finish()"
   ]
  },
  {
   "cell_type": "markdown",
   "id": "949725bf",
   "metadata": {},
   "source": [
    "## 4. Plot the predicted and \"true\" output and plot training and validation losses"
   ]
  },
  {
   "cell_type": "code",
   "execution_count": null,
   "id": "952d91a2",
   "metadata": {},
   "outputs": [],
   "source": [
    "time_plot=range(1,tiempo+2)\n",
    "plt.figure()\n",
    "plt.plot(time_plot,testPredict[0,:,0], label='Real output')\n",
    "plt.plot(time_plot,output_test[0,:],'r', label='Predicted output')\n",
    "plt.xlabel('Discrete time steps')\n",
    "plt.ylabel('Output')\n",
    "plt.legend()\n",
    "plt.show()\n",
    "\n",
    "loss=history.history['loss']\n",
    "val_loss=history.history['val_loss']\n",
    "epochs=range(1,len(loss)+1)\n",
    "plt.figure()\n",
    "plt.plot(epochs, loss,'b', label='Training loss')\n",
    "plt.plot(epochs, val_loss,'r', label='Validation loss')\n",
    "plt.title('Training and validation losses')\n",
    "plt.xlabel('Epochs')\n",
    "plt.ylabel('Loss')\n",
    "plt.xscale('log')\n",
    "plt.legend()\n",
    "plt.show()"
   ]
  },
  {
   "cell_type": "markdown",
   "id": "8882075c",
   "metadata": {},
   "source": [
    "## 5. Bibliografía\n",
    "-H. Kapasi, 2022. \"Modeling Non-Linear Dynamic Systems with Neural Networks\", 2022. [En línea]. Disponible en: https://towardsdatascience.com/modeling-non-linear-dynamic-systems-with-neural-networks-f3761bc92649. [Accesado el 7 de marzo del 2022]."
   ]
  }
 ],
 "metadata": {
  "kernelspec": {
   "display_name": "Python 3",
   "language": "python",
   "name": "python3"
  },
  "language_info": {
   "codemirror_mode": {
    "name": "ipython",
    "version": 3
   },
   "file_extension": ".py",
   "mimetype": "text/x-python",
   "name": "python",
   "nbconvert_exporter": "python",
   "pygments_lexer": "ipython3",
   "version": "3.8.8"
  }
 },
 "nbformat": 4,
 "nbformat_minor": 5
}
