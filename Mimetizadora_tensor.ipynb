{
 "cells": [
  {
   "cell_type": "markdown",
   "id": "be7a6ea6",
   "metadata": {},
   "source": [
    "# ************************************************************* #\n",
    "#               Copyright (C) 2022 Jorge Brenes Alfaro.\n",
    "#               EL5617 Trabajo Final de Graduación.\n",
    "#               Escuela de Ingeniería Electrónica.\n",
    "#               Tecnológico de Costa Rica.\n",
    "# ************************************************************* #"
   ]
  },
  {
   "cell_type": "markdown",
   "id": "ae68c6f1",
   "metadata": {},
   "source": [
    "This file is responsible for generating the mimetic neural network (MNN). First, the data collected from the PAHM is processed, which is reshaped as necessary for the network. Next, the model is developed using recurrent neural networks (RNN), specifically the GRU."
   ]
  },
  {
   "cell_type": "code",
   "execution_count": 1,
   "id": "88a987f2",
   "metadata": {},
   "outputs": [
    {
     "name": "stderr",
     "output_type": "stream",
     "text": [
      "wandb: Currently logged in as: jorgebre98 (mimetic-rna). Use `wandb login --relogin` to force relogin\n"
     ]
    },
    {
     "data": {
      "text/plain": [
       "True"
      ]
     },
     "execution_count": 1,
     "metadata": {},
     "output_type": "execute_result"
    }
   ],
   "source": [
    "#Libraries to proccess data\n",
    "import os\n",
    "import numpy as np\n",
    "import pandas as pd\n",
    "import matplotlib.pyplot as plt\n",
    "\n",
    "#Libraries to create RNAM\n",
    "import tensorflow as tf\n",
    "from sklearn.preprocessing import MaxAbsScaler\n",
    "from tensorflow.keras.models import Sequential\n",
    "from tensorflow.keras.backend import clear_session\n",
    "from tensorflow.keras.optimizers import RMSprop, Adam\n",
    "from tensorflow.keras.layers import Dense, Dropout, GRU, TimeDistributed\n",
    "\n",
    "import warnings\n",
    "warnings.filterwarnings('ignore')\n",
    "\n",
    "import wandb\n",
    "from wandb.keras import WandbCallback\n",
    "\n",
    "wandb.login()"
   ]
  },
  {
   "cell_type": "code",
   "execution_count": 2,
   "id": "0e874352",
   "metadata": {},
   "outputs": [
    {
     "data": {
      "text/html": [
       "wandb version 0.13.4 is available!  To upgrade, please run:\n",
       " $ pip install wandb --upgrade"
      ],
      "text/plain": [
       "<IPython.core.display.HTML object>"
      ]
     },
     "metadata": {},
     "output_type": "display_data"
    },
    {
     "data": {
      "text/html": [
       "Tracking run with wandb version 0.13.3"
      ],
      "text/plain": [
       "<IPython.core.display.HTML object>"
      ]
     },
     "metadata": {},
     "output_type": "display_data"
    },
    {
     "data": {
      "text/html": [
       "Run data is saved locally in <code>C:\\Users\\jorge\\Documents\\TEC\\TFG\\Trabajo_Final_Graduacion\\wandb\\run-20221005_172925-Probando tensorflow cpu5</code>"
      ],
      "text/plain": [
       "<IPython.core.display.HTML object>"
      ]
     },
     "metadata": {},
     "output_type": "display_data"
    },
    {
     "data": {
      "text/html": [
       "Resuming run <strong><a href=\"https://wandb.ai/mimetic-rna/Prueba/runs/Probando%20tensorflow%20cpu5\" target=\"_blank\">Probando tensorflow cpu5</a></strong> to <a href=\"https://wandb.ai/mimetic-rna/Prueba\" target=\"_blank\">Weights & Biases</a> (<a href=\"https://wandb.me/run\" target=\"_blank\">docs</a>)<br/>"
      ],
      "text/plain": [
       "<IPython.core.display.HTML object>"
      ]
     },
     "metadata": {},
     "output_type": "display_data"
    }
   ],
   "source": [
    "wandb.init(project=\"Prueba\", \n",
    "           entity=\"mimetic-rna\", \n",
    "           name='Probando tensorflow cpu5',\n",
    "           resume='Allow', \n",
    "           id='Probando tensorflow cpu5')\n",
    "wandb.config = {\n",
    "    \"epochs\": 10,\n",
    "    \"batch_size\": 1,\n",
    "    \"learning_rate\":0.001,\n",
    "    \"window\": 4,\n",
    "    \"Dropout\": 0.35,\n",
    "    \"n_layers\":1\n",
    "}"
   ]
  },
  {
   "cell_type": "markdown",
   "id": "4e8faef9",
   "metadata": {},
   "source": [
    " Process the Dataset "
   ]
  },
  {
   "cell_type": "code",
   "execution_count": 3,
   "id": "b5c2e1af",
   "metadata": {},
   "outputs": [],
   "source": [
    "def normalizer(angle):\n",
    "    norm = MaxAbsScaler()\n",
    "    angle_normalizer = norm.fit_transform(angle)\n",
    "    return angle_normalizer"
   ]
  },
  {
   "cell_type": "code",
   "execution_count": 4,
   "id": "a6562b3c",
   "metadata": {},
   "outputs": [],
   "source": [
    "# For each element of training set, we have \"window\" previous training set elements\n",
    "def window_generator(train, target, window):\n",
    "    X_train = []\n",
    "    Y_train = []\n",
    "    \n",
    "    for i in range(window,train.shape[0]):\n",
    "        X_train.append(train[i-window:i])\n",
    "        Y_train.append(target[i])\n",
    "        \n",
    "    X_train, Y_train = np.array(X_train), np.array(Y_train) # Input and output arrays\n",
    "    Y_train = np.reshape(Y_train,(Y_train.shape[0],1))\n",
    "    Y_train = normalizer(Y_train)\n",
    "    return X_train,Y_train"
   ]
  },
  {
   "cell_type": "code",
   "execution_count": 5,
   "id": "27675885",
   "metadata": {},
   "outputs": [],
   "source": [
    "# Separate the values in train, validation and test data/label\n",
    "def separate_values(X_train, Y_train):\n",
    "    train_data, val_data, test_data = [],[],[]\n",
    "    train_label, val_label, test_label = [],[],[]\n",
    "    train_lenght = int(len(X_train)*3/5)\n",
    "    val_lenght = int(len(X_train)*4/5)\n",
    "    \n",
    "    # Use 3/5 of the total data set for training\n",
    "    # and 1/5 for validation and testing.\n",
    "    for i,j in zip(X_train[:train_lenght],Y_train[:train_lenght]):\n",
    "        train_data.append(i)\n",
    "        train_label.append(j)\n",
    "    print(len(train_label))\n",
    "    \n",
    "    for i,j in zip(X_train[train_lenght:val_lenght],Y_train[train_lenght:val_lenght]):\n",
    "        val_data.append(i)\n",
    "        val_label.append(j)\n",
    "    \n",
    "    for i,j in zip(X_train[val_lenght:],Y_train[val_lenght:]):\n",
    "        test_data.append(i)\n",
    "        test_label.append(j)\n",
    "    \n",
    "    train_data, val_data, test_data = np.array(train_data), np.array(val_data), np.array(test_data)\n",
    "    train_label, val_label, test_label = np.array(train_label), np.array(val_label), np.array(test_label)\n",
    "        \n",
    "    return train_data, train_label, val_data, val_label, test_data, test_label"
   ]
  },
  {
   "cell_type": "code",
   "execution_count": 6,
   "id": "58cd2989",
   "metadata": {},
   "outputs": [],
   "source": [
    "# Reshape the arrays (n,window,1). Where n is the total amount of data in the array\n",
    "def GRU_tensor(train_data, train_label, val_data, val_label, test_data, test_label):\n",
    "    train_data = np.reshape(train_data,(train_data.shape[0],train_data.shape[1],1))\n",
    "    val_data = np.reshape(val_data,(val_data.shape[0],val_data.shape[1],1))\n",
    "    test_data = np.reshape(test_data,(test_data.shape[0],test_data.shape[1],1))\n",
    "\n",
    "    train_label = np.reshape(train_label, (train_label.shape[0]))\n",
    "    val_label = np.reshape(val_label, (val_label.shape[0]))\n",
    "    test_label = np.reshape(test_label, (test_label.shape[0]))\n",
    "    \n",
    "    return train_data, train_label, val_data, val_label, test_data, test_label"
   ]
  },
  {
   "cell_type": "code",
   "execution_count": 7,
   "id": "d799f1d7",
   "metadata": {
    "scrolled": true
   },
   "outputs": [
    {
     "name": "stdout",
     "output_type": "stream",
     "text": [
      "******************* Process the Dataset *******************\n",
      "Recolecting Data\n",
      "Accommodating data for the GRU network\n",
      "Separating data in training, validation and testing\n",
      "82969\n",
      "Total train data is:  82969\n",
      "Total validation data is:  27656\n",
      "Total testing data is::  27657\n",
      "Reshape arrays to tensors\n",
      "\n",
      "Train data shape is:  (82969, 4, 1)\n",
      "Validation data shape is:  (27656, 4, 1)\n",
      "Testing data shape is::  (27657, 4, 1)\n",
      "Train label shape is:  (82969,)\n",
      "Validation label shape is:  (27656,)\n",
      "Testing label shape is::  (27657,)\n",
      "******************* Finish *******************\n"
     ]
    }
   ],
   "source": [
    "root = '/Users/jorge/Documents/TEC/TFG/Datos_Recolectados/'\n",
    "Dir = os.listdir(root)\n",
    "pwm = np.array([])\n",
    "angle = np.array([])\n",
    "\n",
    "# Read all the .csv files and make an nx4 array\n",
    "# Next, separate the pwm value and angle in their respective arrays.\n",
    "print('******************* Process the Dataset *******************',flush=True)\n",
    "print('Recolecting Data',flush=True)\n",
    "for filename in Dir:\n",
    "    files = pd.read_csv(root+filename)\n",
    "    pwm = np.append(pwm, np.concatenate((np.zeros(100),files.values[:,2])))\n",
    "    angle = np.append(angle, np.concatenate((np.zeros(100),files.values[:,3])))\n",
    "\n",
    "print('Accommodating data for the GRU network',flush=True)\n",
    "window = wandb.config['window']\n",
    "train, target = window_generator(pwm,angle,wandb.config['window'])\n",
    "\n",
    "print('Separating data in training, validation and testing',flush=True)\n",
    "train_data, train_label, val_data, val_label, test_data, test_label = separate_values(train, target)\n",
    "\n",
    "print('Total train data is: ', len(train_data), flush=True)\n",
    "print('Total validation data is: ', len(val_data), flush=True)\n",
    "print('Total testing data is:: ', len(test_data), flush=True)\n",
    "\n",
    "print('Reshape arrays to tensors',flush=True)\n",
    "train_X, train_target, val_X, val_target, test_X, test_target = GRU_tensor(train_data, train_label,\n",
    "                                                                           val_data, val_label,\n",
    "                                                                           test_data, test_label)\n",
    "print('\\nTrain data shape is: ', train_X.shape, flush=True)\n",
    "print('Validation data shape is: ', val_X.shape, flush=True)\n",
    "print('Testing data shape is:: ', test_X.shape, flush=True)\n",
    "print('Train label shape is: ', train_target.shape, flush=True)\n",
    "print('Validation label shape is: ', val_target.shape, flush=True)\n",
    "print('Testing label shape is:: ', test_target.shape, flush=True)\n",
    "\n",
    "print('******************* Finish *******************',flush=True)"
   ]
  },
  {
   "cell_type": "markdown",
   "id": "63423229",
   "metadata": {},
   "source": [
    "******************* Neural Network *******************\n",
    "\n",
    "Model creation"
   ]
  },
  {
   "cell_type": "code",
   "execution_count": 8,
   "id": "e92ad37a",
   "metadata": {},
   "outputs": [
    {
     "name": "stdout",
     "output_type": "stream",
     "text": [
      "Model: \"sequential\"\n",
      "_________________________________________________________________\n",
      "Layer (type)                 Output Shape              Param #   \n",
      "=================================================================\n",
      "gru (GRU)                    (None, 4, 4)              84        \n",
      "_________________________________________________________________\n",
      "time_distributed (TimeDistri (None, 4, 1)              5         \n",
      "=================================================================\n",
      "Total params: 89\n",
      "Trainable params: 89\n",
      "Non-trainable params: 0\n",
      "_________________________________________________________________\n"
     ]
    }
   ],
   "source": [
    "clear_session()\n",
    "\n",
    "model = Sequential()\n",
    "model.add(GRU(units=4, input_shape=(train_X.shape[1],train_X.shape[2]), return_sequences=True, time_major=True))\n",
    "#model.add(Dropout(wandb.config['Dropout'])\n",
    "#model.add(Dense(units=1))\n",
    "model.add(TimeDistributed(Dense(1))) # There is no difference between this and model.add(Dense(1))...\n",
    "model.compile(optimizer=Adam(learning_rate=wandb.config['learning_rate']), loss='mean_squared_error', metrics=['mse'])\n",
    "\n",
    "model.summary()"
   ]
  },
  {
   "cell_type": "markdown",
   "id": "a59b4162",
   "metadata": {},
   "source": [
    "Model Training"
   ]
  },
  {
   "cell_type": "code",
   "execution_count": 9,
   "id": "091be107",
   "metadata": {
    "scrolled": true
   },
   "outputs": [
    {
     "name": "stdout",
     "output_type": "stream",
     "text": [
      "WARNING:tensorflow:From C:\\Users\\jorge\\anaconda3\\lib\\site-packages\\tensorflow\\python\\profiler\\internal\\flops_registry.py:142: tensor_shape_from_node_def_name (from tensorflow.python.framework.graph_util_impl) is deprecated and will be removed in a future version.\n",
      "Instructions for updating:\n",
      "Use `tf.compat.v1.graph_util.tensor_shape_from_node_def_name`\n",
      "Epoch 1/10\n",
      "82969/82969 - 182s - loss: 0.0289 - mse: 0.0289 - val_loss: 0.0117 - val_mse: 0.0117\n",
      "Epoch 2/10\n",
      "82969/82969 - 186s - loss: 0.0285 - mse: 0.0285 - val_loss: 0.0114 - val_mse: 0.0114\n",
      "Epoch 3/10\n",
      "82969/82969 - 113s - loss: 0.0285 - mse: 0.0285 - val_loss: 0.0114 - val_mse: 0.0114\n",
      "Epoch 4/10\n",
      "82969/82969 - 86s - loss: 0.0284 - mse: 0.0284 - val_loss: 0.0118 - val_mse: 0.0118\n",
      "Epoch 5/10\n",
      "82969/82969 - 87s - loss: 0.0284 - mse: 0.0284 - val_loss: 0.0147 - val_mse: 0.0147\n",
      "Epoch 6/10\n",
      "82969/82969 - 88s - loss: 0.0284 - mse: 0.0284 - val_loss: 0.0111 - val_mse: 0.0111\n",
      "Epoch 7/10\n",
      "82969/82969 - 84s - loss: 0.0284 - mse: 0.0284 - val_loss: 0.0114 - val_mse: 0.0114\n",
      "Epoch 8/10\n",
      "82969/82969 - 86s - loss: 0.0284 - mse: 0.0284 - val_loss: 0.0117 - val_mse: 0.0117\n",
      "Epoch 9/10\n",
      "82969/82969 - 84s - loss: 0.0284 - mse: 0.0284 - val_loss: 0.0111 - val_mse: 0.0111\n",
      "Epoch 10/10\n",
      "82969/82969 - 84s - loss: 0.0284 - mse: 0.0284 - val_loss: 0.0112 - val_mse: 0.0112\n"
     ]
    }
   ],
   "source": [
    "history = model.fit(train_X, train_target,\n",
    "                    epochs=wandb.config['epochs'], batch_size=wandb.config['batch_size'],\n",
    "                    validation_data = (val_X,val_target),\n",
    "                    verbose=2,callbacks=[WandbCallback(save_model=False)])"
   ]
  },
  {
   "cell_type": "code",
   "execution_count": 10,
   "id": "39c13ce0",
   "metadata": {},
   "outputs": [],
   "source": [
    "# Prediction\n",
    "testPredict = model.predict(test_X)"
   ]
  },
  {
   "cell_type": "code",
   "execution_count": 24,
   "id": "c630accb",
   "metadata": {},
   "outputs": [
    {
     "data": {
      "text/plain": [
       "array([[ 0.19249626],\n",
       "       [ 0.19249626],\n",
       "       [ 0.19249626],\n",
       "       ...,\n",
       "       [-0.15550753],\n",
       "       [-0.15550753],\n",
       "       [-0.15550753]], dtype=float32)"
      ]
     },
     "execution_count": 24,
     "metadata": {},
     "output_type": "execute_result"
    }
   ],
   "source": [
    "np.reshape(testPredict,(-1,1))"
   ]
  },
  {
   "cell_type": "code",
   "execution_count": 25,
   "id": "903868f1",
   "metadata": {
    "scrolled": false
   },
   "outputs": [
    {
     "data": {
      "text/plain": [
       "[<matplotlib.lines.Line2D at 0x1cc33c70400>]"
      ]
     },
     "execution_count": 25,
     "metadata": {},
     "output_type": "execute_result"
    },
    {
     "data": {
      "image/png": "[encoded data removed]",
      "text/plain": [
       "<Figure size 432x288 with 1 Axes>"
      ]
     },
     "metadata": {
      "needs_background": "light"
     },
     "output_type": "display_data"
    },
    {
     "data": {
      "image/png": "[encoded data removed]",
      "text/plain": [
       "<Figure size 432x288 with 1 Axes>"
      ]
     },
     "metadata": {
      "needs_background": "light"
     },
     "output_type": "display_data"
    }
   ],
   "source": [
    "plt.figure()\n",
    "plt.plot(np.reshape(test_target,-1)[10000:15000],label='Real Ouput')\n",
    "plt.figure()\n",
    "plt.plot(np.reshape(testPredict,-1)[10000:15000],'r',label='Predict Output')"
   ]
  },
  {
   "cell_type": "markdown",
   "id": "ff5d7a11",
   "metadata": {},
   "source": [
    "Model Evaluate"
   ]
  },
  {
   "cell_type": "code",
   "execution_count": null,
   "id": "c4b35b4b",
   "metadata": {
    "scrolled": true
   },
   "outputs": [],
   "source": [
    "loss=history.history['loss']\n",
    "val_loss=history.history['val_loss']\n",
    "epochs=range(1,len(loss)+1)\n",
    "plt.figure()\n",
    "plt.plot(epochs, loss,'b', label='Training loss')\n",
    "plt.plot(epochs, val_loss,'r', label='Validation loss')\n",
    "plt.title('Training and validation losses')\n",
    "plt.xlabel('Epochs')\n",
    "plt.ylabel('Loss')\n",
    "plt.xscale('log')\n",
    "#plt.yscale('log')\n",
    "plt.legend()\n",
    "plt.savefig('lossLSTM32.png')\n",
    "plt.show()"
   ]
  }
 ],
 "metadata": {
  "kernelspec": {
   "display_name": "Python 3",
   "language": "python",
   "name": "python3"
  },
  "language_info": {
   "codemirror_mode": {
    "name": "ipython",
    "version": 3
   },
   "file_extension": ".py",
   "mimetype": "text/x-python",
   "name": "python",
   "nbconvert_exporter": "python",
   "pygments_lexer": "ipython3",
   "version": "3.8.8"
  }
 },
 "nbformat": 4,
 "nbformat_minor": 5
}
