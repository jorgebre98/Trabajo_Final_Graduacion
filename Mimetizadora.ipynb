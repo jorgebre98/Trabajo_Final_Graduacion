{
 "cells": [
  {
   "cell_type": "markdown",
   "id": "be7a6ea6",
   "metadata": {},
   "source": [
    "## Tecnológico de Costa Rica\n",
    "\n",
    "### Autor: Jorge Andrés Brenes Alfaro\n",
    "\n",
    "## Red mimetizadora\n",
    "\n"
   ]
  },
  {
   "cell_type": "markdown",
   "id": "e48629b1",
   "metadata": {},
   "source": [
    "## 1. Bibliotecas"
   ]
  },
  {
   "cell_type": "code",
   "execution_count": 1,
   "id": "88a987f2",
   "metadata": {},
   "outputs": [],
   "source": [
    "import numpy as np\n",
    "import pandas as pd\n",
    "import matplotlib.pyplot as plt\n",
    "\n",
    "from tensorflow.keras.models import Sequential\n",
    "from tensorflow.keras.layers import Dense, GRU, TimeDistributed\n",
    "from tensorflow.keras.optimizers import RMSprop, Adam\n",
    "\n",
    "from tensorflow.keras.backend import clear_session\n",
    "\n",
    "import warnings\n",
    "warnings.filterwarnings('ignore')"
   ]
  },
  {
   "cell_type": "markdown",
   "id": "4e8faef9",
   "metadata": {},
   "source": [
    "## 2. Dataset "
   ]
  },
  {
   "cell_type": "code",
   "execution_count": 2,
   "id": "361fc63f",
   "metadata": {},
   "outputs": [
    {
     "name": "stdout",
     "output_type": "stream",
     "text": [
      "El total de datos de entrenamiento es:  19\n",
      "El total de datos de validación es:  2\n",
      "El total de datos de prueba es:  3\n"
     ]
    }
   ],
   "source": [
    "Dataset = pd.read_excel('Data_Collection.xlsx')  #Se leen los datos del archivo .xlsx\n",
    "Dataset = Dataset.values # convierten los valores a un array\n",
    "\n",
    "latencia, pwm_value, angle = [Dataset[:,0]], Dataset[:,1], Dataset[:,2]\n",
    "\n",
    "# **** DATA ****\n",
    "train_data = pwm_value[:int(0.8*Dataset.shape[0])] # 80% de los datos\n",
    "val_data = pwm_value[int(0.8*Dataset.shape[0]):int(0.9*Dataset.shape[0])] # 10% de los datos\n",
    "test_data = pwm_value[int(0.9*Dataset.shape[0]):] # 10% de los datos\n",
    "\n",
    "# **** LABELS ****\n",
    "train_label = angle[:int(0.8*Dataset.shape[0])]\n",
    "val_label = angle[int(0.8*Dataset.shape[0]):int(0.9*Dataset.shape[0])]\n",
    "test_label = angle[int(0.9*Dataset.shape[0]):] \n",
    "\n",
    "# **** RESHAPE ****\n",
    "train_data = np.reshape(train_data,(1,train_data.shape[0],1))\n",
    "val_data = np.reshape(val_data,(1,val_data.shape[0],1))\n",
    "test_data = np.reshape(test_data,(1,test_data.shape[0],1))\n",
    "\n",
    "train_label = np.reshape(train_label,(1,train_label.shape[0],1))\n",
    "val_label = np.reshape(val_label,(1,val_label.shape[0],1))\n",
    "test_label = np.reshape(test_label,(1,test_label.shape[0],1))\n",
    "\n",
    "print('El total de datos de entrenamiento es: ', train_data.shape[1])\n",
    "print('El total de datos de validación es: ', val_data.shape[1])\n",
    "print('El total de datos de prueba es: ', test_data.shape[1])"
   ]
  },
  {
   "cell_type": "code",
   "execution_count": 3,
   "id": "b67ffb1e",
   "metadata": {},
   "outputs": [
    {
     "data": {
      "text/plain": [
       "array([[[0.    ],\n",
       "        [0.    ],\n",
       "        [0.    ],\n",
       "        [0.4091],\n",
       "        [1.6371],\n",
       "        [1.8074],\n",
       "        [0.5005],\n",
       "        [1.864 ],\n",
       "        [0.72  ],\n",
       "        [0.6952],\n",
       "        [0.8138],\n",
       "        [2.6841],\n",
       "        [2.3888],\n",
       "        [2.9767],\n",
       "        [1.9738],\n",
       "        [0.8642],\n",
       "        [3.6436],\n",
       "        [1.8887],\n",
       "        [3.371 ]]])"
      ]
     },
     "execution_count": 3,
     "metadata": {},
     "output_type": "execute_result"
    }
   ],
   "source": [
    "train_data.shape"
   ]
  },
  {
   "cell_type": "markdown",
   "id": "63423229",
   "metadata": {},
   "source": [
    "## 3. Neural Network"
   ]
  },
  {
   "cell_type": "markdown",
   "id": "48b1923a",
   "metadata": {},
   "source": [
    "### 3.1 Model Creation"
   ]
  },
  {
   "cell_type": "code",
   "execution_count": null,
   "id": "e92ad37a",
   "metadata": {},
   "outputs": [],
   "source": [
    "clear_session()\n",
    "\n",
    "model = Sequential()\n",
    "model.add(GRU(64, input_shape=(train_data.shape[1],train_data.shape[2]),return_sequences=True))\n",
    "model.add(Dense(1))\n",
    "#model.add(TimeDistributed(Dense(1)))  #there is no difference between this and model.add(Dense(1))...\n",
    "model.compile(optimizer=Adam(), loss='mean_squared_error', metrics=['mse'])\n",
    "\n",
    "model.summary()"
   ]
  },
  {
   "cell_type": "markdown",
   "id": "a59b4162",
   "metadata": {},
   "source": [
    "### 3.2 Model Training"
   ]
  },
  {
   "cell_type": "code",
   "execution_count": null,
   "id": "091be107",
   "metadata": {},
   "outputs": [],
   "source": [
    "history = model.fit(train_data, train_label, \n",
    "                  epochs=500, batch_size=1, \n",
    "                  validation_data=(val_data,val_label),verbose=2)\n",
    "\n",
    "model.save('modelo_PAHM', save_format=\"h5\")\n",
    "\n",
    "# use the test data to predict the model response\n",
    "#testPredict = model.predict(test_data)"
   ]
  },
  {
   "cell_type": "markdown",
   "id": "ff5d7a11",
   "metadata": {},
   "source": [
    "### 3.3 Model Evaluate"
   ]
  },
  {
   "cell_type": "code",
   "execution_count": null,
   "id": "c4b35b4b",
   "metadata": {},
   "outputs": [],
   "source": []
  }
 ],
 "metadata": {
  "kernelspec": {
   "display_name": "Python 3",
   "language": "python",
   "name": "python3"
  },
  "language_info": {
   "codemirror_mode": {
    "name": "ipython",
    "version": 3
   },
   "file_extension": ".py",
   "mimetype": "text/x-python",
   "name": "python",
   "nbconvert_exporter": "python",
   "pygments_lexer": "ipython3",
   "version": "3.8.8"
  }
 },
 "nbformat": 4,
 "nbformat_minor": 5
}
