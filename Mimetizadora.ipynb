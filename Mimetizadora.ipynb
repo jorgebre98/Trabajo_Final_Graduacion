{
 "cells": [
  {
   "cell_type": "markdown",
   "id": "be7a6ea6",
   "metadata": {},
   "source": [
    "## Tecnológico de Costa Rica\n",
    "\n",
    "### Autor: Jorge Andrés Brenes Alfaro\n",
    "\n",
    "## Red mimetizadora\n",
    "\n",
    "El código desarrollado a continuación está basado en [1]. La red diseñada es la encargada de reproducir el comprotamiento de entrada y salida de una planta prototipo de péndulo amortiguado a hélice (PAHM).\n",
    "\n"
   ]
  },
  {
   "cell_type": "markdown",
   "id": "e48629b1",
   "metadata": {},
   "source": [
    "## Librerías"
   ]
  },
  {
   "cell_type": "code",
   "execution_count": 1,
   "id": "88a987f2",
   "metadata": {},
   "outputs": [],
   "source": [
    "import numpy as np\n",
    "import matplotlib.pyplot as plt\n",
    "from numpy.linalg import inv\n",
    "#from keras.layers import Dense\n",
    "#from keras.layers import GRU\n",
    "#from keras.layers import LSTM\n",
    "#from keras.layers import SimpleRNN\n",
    "#from keras.models import Sequential\n",
    "#from keras.optimizers import RMSprop\n",
    "#from keras.layers import TimeDistributed\n",
    "#from keras.callbacks import ModelCheckpoint"
   ]
  },
  {
   "cell_type": "markdown",
   "id": "e214786f",
   "metadata": {},
   "source": [
    "## Definición del modelo\n",
    "Se define el espacio de estados de la planta PAHM de la siguiente forma:\n",
    "$$\\dot{x}(t)=A*x(t)+Bu(t)\\\\\n",
    "y(t)=C*x(t)$$\n",
    "Donde:\n",
    "- A, B y C son matrices.\n",
    "- x(t) es el estado en el tiempo t.\n",
    "- u(t) es la entrada externa.\n",
    "- y(t) es la salida."
   ]
  },
  {
   "cell_type": "markdown",
   "id": "83c35551",
   "metadata": {},
   "source": [
    "## Función para simular la dinámica de la planta"
   ]
  },
  {
   "cell_type": "code",
   "execution_count": 2,
   "id": "725525b1",
   "metadata": {},
   "outputs": [],
   "source": [
    "def dinamica_modelo(A,B,C,cond_inicial,input_sequence, time_steps,muestreo):\n",
    "    I = np.identity(A.shape[0])\n",
    "    Ad = inv(I - muestreo*A)\n",
    "    Bd = Ad*muestreo*B\n",
    "    Xd = np.zeros(shape=(A.shape[0],time_steps + 1))\n",
    "    Yd = np.zeros(shape=(C.shape[0],time_steps + 1))\n",
    "    \n",
    "    for i in range(0,time_steps):\n",
    "        if i==0:\n",
    "            Xd[:,[i]] = cond_inicial\n",
    "            Yd[:,[i]] = C*cond_inicial\n",
    "            x = Ad*cond_inicial+Bd*input_sequence[i]\n",
    "        else:\n",
    "            Xd[:,[i]] = x\n",
    "            Yd[:,[i]] = C*x\n",
    "            x = Ad*x+Bd*input_sequence[i]\n",
    "            \n",
    "    Xd[:,[-1]] = x\n",
    "    Yd[:,[-1]] = C*x\n",
    "    return Xd, Yd"
   ]
  },
  {
   "cell_type": "code",
   "execution_count": 3,
   "id": "7435ff6e",
   "metadata": {},
   "outputs": [],
   "source": [
    "# Definición del modelo en tiempo continuo\n",
    "A = np.matrix([[0, 1],[-0.9413, -0.149]])\n",
    "B = np.matrix([[0],[0.149]])\n",
    "C = np.matrix([[1, 0]])\n",
    "\n",
    "# Definición del tiempo de muestreo\n",
    "tiempo = 200\n",
    "sampling = 0.2\n",
    "\n",
    "input_seq_train = np.random.rand(tiempo,1) # Secuencia de entrada para la simulación\n",
    "                                           # Es aleatoria para que sea rica en información\n",
    "x0_train = np.random.rand(2,1) # Condición inicial\n",
    "input_seq=np.ones(tiempo)\n",
    "#plt.plot(input_seq_train)\n",
    "\n",
    "# Dinámica de la planta\n",
    "state,output_train=dinamica_modelo(A,B,C,x0_train,input_seq,tiempo,sampling)  "
   ]
  },
  {
   "cell_type": "code",
   "execution_count": 5,
   "id": "766bc288",
   "metadata": {},
   "outputs": [
    {
     "data": {
      "text/plain": [
       "Text(0.5, 1.0, 'Respuesta al escalón')"
      ]
     },
     "execution_count": 5,
     "metadata": {},
     "output_type": "execute_result"
    },
    {
     "data": {
      "image/png": "[encoded data removed]",
      "text/plain": [
       "<Figure size 432x288 with 1 Axes>"
      ]
     },
     "metadata": {
      "needs_background": "light"
     },
     "output_type": "display_data"
    }
   ],
   "source": [
    "plt.plot(output_train[0,:])\n",
    "plt.xlabel('Tiempo (s)')\n",
    "plt.ylabel('Ángulo (rad)')\n",
    "plt.title('Respuesta al escalón')"
   ]
  },
  {
   "cell_type": "markdown",
   "id": "834a9302",
   "metadata": {},
   "source": [
    "## Creación de datos"
   ]
  },
  {
   "cell_type": "code",
   "execution_count": null,
   "id": "99d64b65",
   "metadata": {},
   "outputs": [],
   "source": []
  },
  {
   "cell_type": "markdown",
   "id": "373415ab",
   "metadata": {},
   "source": [
    "## Creación de la red"
   ]
  },
  {
   "cell_type": "code",
   "execution_count": null,
   "id": "560a03d7",
   "metadata": {},
   "outputs": [],
   "source": []
  },
  {
   "cell_type": "markdown",
   "id": "42f0cd03",
   "metadata": {},
   "source": [
    "## Gráficos\n",
    "Esta sección consta de graficar los resultados de la predicción, así como las pérdidas"
   ]
  },
  {
   "cell_type": "code",
   "execution_count": null,
   "id": "2d962aac",
   "metadata": {},
   "outputs": [],
   "source": []
  },
  {
   "cell_type": "code",
   "execution_count": null,
   "id": "6eabae2b",
   "metadata": {},
   "outputs": [],
   "source": []
  },
  {
   "cell_type": "markdown",
   "id": "8882075c",
   "metadata": {},
   "source": [
    "## Bibliografía\n",
    "-H. Kapasi, 2022. \"Modeling Non-Linear Dynamic Systems with Neural Networks\", 2022. [En línea]. Disponible en: https://towardsdatascience.com/modeling-non-linear-dynamic-systems-with-neural-networks-f3761bc92649. [Accesado el 7 de marzo del 2022]."
   ]
  }
 ],
 "metadata": {
  "kernelspec": {
   "display_name": "Python 3",
   "language": "python",
   "name": "python3"
  },
  "language_info": {
   "codemirror_mode": {
    "name": "ipython",
    "version": 3
   },
   "file_extension": ".py",
   "mimetype": "text/x-python",
   "name": "python",
   "nbconvert_exporter": "python",
   "pygments_lexer": "ipython3",
   "version": "3.8.8"
  }
 },
 "nbformat": 4,
 "nbformat_minor": 5
}
